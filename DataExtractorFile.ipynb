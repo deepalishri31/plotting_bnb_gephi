{
 "cells": [
  {
   "cell_type": "code",
   "execution_count": 32,
   "metadata": {},
   "outputs": [],
   "source": [
    "import pandas as pd"
   ]
  },
  {
   "cell_type": "code",
   "execution_count": 48,
   "metadata": {},
   "outputs": [],
   "source": [
    "def get_timestamp_iso(x):\n",
    "    x_l =x[0].split(':')\n",
    "    hh= int(x_l[0])\n",
    "    min= int(x_l[1])\n",
    "    sec= int(x_l[2])\n",
    "    mcrsec = int(x_l[3])*10000\n",
    "    ts = pd.Timestamp(year=2023,month=4,day=8,hour=hh,minute=min ,second=sec,microsecond=mcrsec,tz='Asia/Kolkata')\n",
    "    ts = ts.isoformat()\n",
    "    return ts"
   ]
  },
  {
   "cell_type": "code",
   "execution_count": 64,
   "metadata": {},
   "outputs": [],
   "source": [
    "def convert_gephi_data(file_name):\n",
    "    import numpy as np\n",
    "    import pandas as pd\n",
    "    with open(file_name,'r') as file:\n",
    "        data = file.readlines()\n",
    "    data = data[5:]\n",
    "    data = [data[i].strip().split(' ') for i in range(len(data))]\n",
    "\n",
    "    num_nodes=1\n",
    "    for i in range(len(data)):\n",
    "        if data[i][1]=='N':\n",
    "            num_nodes+=1\n",
    "    node_data = [[0,'v0',[t for t in range(0,num_nodes+1)]]]\n",
    "    edge_data = []\n",
    "    k=0\n",
    "    for i in range(len(data)):\n",
    "        if data[i][1]=='N':\n",
    "            k+=1\n",
    "            node_data.append([int(data[i][3]),'v'+data[i][3],[t for t in range(k,num_nodes+1)]])\n",
    "            edge_data.append([int(data[i][2]),int(data[i][3]),'directed'])#get_timestamp_iso(data[i])])\n",
    "        else:\n",
    "            pass\n",
    "    node_df = pd.DataFrame(np.array(node_data),columns=['Id','Label','Timestamp'])\n",
    "    edge_df = pd.DataFrame(np.array(edge_data),columns=['Source','Target','Type'])\n",
    "    #node_df['timestamp']= edge_df['timestamp']\n",
    "    node_df.to_csv(file_name.split('/')[0]+'/node_data_'+file_name.split('/')[1][:5]+'.csv',index=None)\n",
    "    edge_df.to_csv(file_name.split('/')[0]+'/edge_data_'+file_name.split('/')[1][:5]+'.csv',index=None)"
   ]
  },
  {
   "cell_type": "code",
   "execution_count": 71,
   "metadata": {},
   "outputs": [
    {
     "name": "stderr",
     "output_type": "stream",
     "text": [
      "/var/folders/h7/6lgdg2sd0h571fcnk8gz8x600000gn/T/ipykernel_71498/2622800866.py:23: VisibleDeprecationWarning: Creating an ndarray from ragged nested sequences (which is a list-or-tuple of lists-or-tuples-or ndarrays with different lengths or shapes) is deprecated. If you meant to do this, you must specify 'dtype=object' when creating the ndarray.\n",
      "  node_df = pd.DataFrame(np.array(node_data),columns=['Id','Label','Timestamp'])\n"
     ]
    }
   ],
   "source": [
    "convert_gephi_data('water/water0202.txt')"
   ]
  },
  {
   "cell_type": "code",
   "execution_count": null,
   "metadata": {},
   "outputs": [],
   "source": []
  }
 ],
 "metadata": {
  "kernelspec": {
   "display_name": "Python 3.9.12 ('base')",
   "language": "python",
   "name": "python3"
  },
  "language_info": {
   "codemirror_mode": {
    "name": "ipython",
    "version": 3
   },
   "file_extension": ".py",
   "mimetype": "text/x-python",
   "name": "python",
   "nbconvert_exporter": "python",
   "pygments_lexer": "ipython3",
   "version": "3.9.12"
  },
  "orig_nbformat": 4,
  "vscode": {
   "interpreter": {
    "hash": "949510482b8eeb0db0de64008f8e13a21a90dd06afd7a8e21dd837eed22f74f3"
   }
  }
 },
 "nbformat": 4,
 "nbformat_minor": 2
}
